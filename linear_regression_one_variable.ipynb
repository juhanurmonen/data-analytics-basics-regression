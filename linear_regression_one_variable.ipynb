{
 "cells": [
  {
   "cell_type": "markdown",
   "id": "ed389c27",
   "metadata": {},
   "source": [
    "# Linear regression &ndash; one variable case"
   ]
  },
  {
   "cell_type": "markdown",
   "id": "c65c5d78",
   "metadata": {},
   "source": [
    "Models for machine learning are found in the library _scikit-learn_. More information about them can be found at https://scikit-learn.org/stable/."
   ]
  },
  {
   "cell_type": "code",
   "execution_count": 1,
   "id": "b5315779",
   "metadata": {},
   "outputs": [],
   "source": [
    "### Import the useful libraries.\n",
    "\n",
    "import pandas as pd\n",
    "import matplotlib.pyplot as plt\n",
    "import seaborn as sns\n",
    "%matplotlib inline"
   ]
  },
  {
   "cell_type": "code",
   "execution_count": 2,
   "id": "71ae036f",
   "metadata": {},
   "outputs": [
    {
     "data": {
      "text/html": [
       "<div>\n",
       "<style scoped>\n",
       "    .dataframe tbody tr th:only-of-type {\n",
       "        vertical-align: middle;\n",
       "    }\n",
       "\n",
       "    .dataframe tbody tr th {\n",
       "        vertical-align: top;\n",
       "    }\n",
       "\n",
       "    .dataframe thead th {\n",
       "        text-align: right;\n",
       "    }\n",
       "</style>\n",
       "<table border=\"1\" class=\"dataframe\">\n",
       "  <thead>\n",
       "    <tr style=\"text-align: right;\">\n",
       "      <th></th>\n",
       "      <th>Month</th>\n",
       "      <th>Marketing costs 1000 €</th>\n",
       "      <th>Sales 1000 €</th>\n",
       "    </tr>\n",
       "  </thead>\n",
       "  <tbody>\n",
       "    <tr>\n",
       "      <th>0</th>\n",
       "      <td>1</td>\n",
       "      <td>1.2</td>\n",
       "      <td>101</td>\n",
       "    </tr>\n",
       "    <tr>\n",
       "      <th>1</th>\n",
       "      <td>2</td>\n",
       "      <td>0.8</td>\n",
       "      <td>92</td>\n",
       "    </tr>\n",
       "    <tr>\n",
       "      <th>2</th>\n",
       "      <td>3</td>\n",
       "      <td>1.0</td>\n",
       "      <td>110</td>\n",
       "    </tr>\n",
       "    <tr>\n",
       "      <th>3</th>\n",
       "      <td>4</td>\n",
       "      <td>1.3</td>\n",
       "      <td>120</td>\n",
       "    </tr>\n",
       "    <tr>\n",
       "      <th>4</th>\n",
       "      <td>5</td>\n",
       "      <td>0.7</td>\n",
       "      <td>90</td>\n",
       "    </tr>\n",
       "    <tr>\n",
       "      <th>5</th>\n",
       "      <td>6</td>\n",
       "      <td>0.8</td>\n",
       "      <td>82</td>\n",
       "    </tr>\n",
       "    <tr>\n",
       "      <th>6</th>\n",
       "      <td>7</td>\n",
       "      <td>1.0</td>\n",
       "      <td>93</td>\n",
       "    </tr>\n",
       "    <tr>\n",
       "      <th>7</th>\n",
       "      <td>8</td>\n",
       "      <td>0.6</td>\n",
       "      <td>75</td>\n",
       "    </tr>\n",
       "    <tr>\n",
       "      <th>8</th>\n",
       "      <td>9</td>\n",
       "      <td>0.9</td>\n",
       "      <td>91</td>\n",
       "    </tr>\n",
       "    <tr>\n",
       "      <th>9</th>\n",
       "      <td>10</td>\n",
       "      <td>1.1</td>\n",
       "      <td>105</td>\n",
       "    </tr>\n",
       "  </tbody>\n",
       "</table>\n",
       "</div>"
      ],
      "text/plain": [
       "   Month  Marketing costs 1000 €  Sales 1000 €\n",
       "0      1                     1.2           101\n",
       "1      2                     0.8            92\n",
       "2      3                     1.0           110\n",
       "3      4                     1.3           120\n",
       "4      5                     0.7            90\n",
       "5      6                     0.8            82\n",
       "6      7                     1.0            93\n",
       "7      8                     0.6            75\n",
       "8      9                     0.9            91\n",
       "9     10                     1.1           105"
      ]
     },
     "execution_count": 2,
     "metadata": {},
     "output_type": "execute_result"
    }
   ],
   "source": [
    "### Open the data.\n",
    "\n",
    "df = pd.read_excel('http://myy.haaga-helia.fi/~menetelmat/Data-analytiikka/Teaching/linreg1_en.xlsx')\n",
    "\n",
    "df"
   ]
  },
  {
   "cell_type": "code",
   "execution_count": 3,
   "id": "8b4f80e5",
   "metadata": {},
   "outputs": [
    {
     "data": {
      "text/plain": [
       "<seaborn.axisgrid.JointGrid at 0x224e759d648>"
      ]
     },
     "execution_count": 3,
     "metadata": {},
     "output_type": "execute_result"
    },
    {
     "data": {
      "image/png": "[encoded data removed]",
      "text/plain": [
       "<Figure size 432x432 with 3 Axes>"
      ]
     },
     "metadata": {
      "needs_background": "light"
     },
     "output_type": "display_data"
    }
   ],
   "source": [
    "### Consider the depencies using the jointplot chart of the seaborn library.\n",
    "\n",
    "sns.jointplot(data = df, x = 'Marketing costs 1000 €', y = 'Sales 1000 €', kind = 'reg')"
   ]
  },
  {
   "cell_type": "code",
   "execution_count": 4,
   "id": "074023d0",
   "metadata": {},
   "outputs": [],
   "source": [
    "### Prepare the data.\n",
    "\n",
    "### Feature matrix X. Notice transforming into a dataframe.\n",
    "\n",
    "X = df['Marketing costs 1000 €'].to_frame()\n",
    "\n",
    "### Target, i.e., dependent variable, wanted to be predicted\n",
    "\n",
    "y = df['Sales 1000 €']"
   ]
  },
  {
   "cell_type": "code",
   "execution_count": 5,
   "id": "513d9f98",
   "metadata": {},
   "outputs": [],
   "source": [
    "### Import linear regression model.\n",
    "\n",
    "from sklearn.linear_model import LinearRegression\n",
    "\n",
    "### Fit the model into the data.\n",
    "\n",
    "model = LinearRegression().fit(X,y)"
   ]
  },
  {
   "cell_type": "code",
   "execution_count": 6,
   "id": "04d75dd8",
   "metadata": {},
   "outputs": [
    {
     "data": {
      "text/plain": [
       "array([52.56756757])"
      ]
     },
     "execution_count": 6,
     "metadata": {},
     "output_type": "execute_result"
    }
   ],
   "source": [
    "### Slope of the regression line.\n",
    "\n",
    "model.coef_"
   ]
  },
  {
   "cell_type": "code",
   "execution_count": 7,
   "id": "a086633f",
   "metadata": {},
   "outputs": [
    {
     "data": {
      "text/plain": [
       "46.486486486486505"
      ]
     },
     "execution_count": 7,
     "metadata": {},
     "output_type": "execute_result"
    }
   ],
   "source": [
    "### Intercept of the regression line.\n",
    "\n",
    "model.intercept_"
   ]
  },
  {
   "cell_type": "code",
   "execution_count": 8,
   "id": "c00739d1",
   "metadata": {},
   "outputs": [
    {
     "data": {
      "text/plain": [
       "0.7663982928521625"
      ]
     },
     "execution_count": 8,
     "metadata": {},
     "output_type": "execute_result"
    }
   ],
   "source": [
    "### R squared value\n",
    "\n",
    "model.score(X,y)"
   ]
  },
  {
   "cell_type": "markdown",
   "id": "3ba11f91",
   "metadata": {},
   "source": [
    "For more information about coefficient of determination, denoted by $R^2$, see https://en.wikipedia.org/wiki/Coefficient_of_determination."
   ]
  },
  {
   "cell_type": "code",
   "execution_count": 9,
   "id": "24e611f6",
   "metadata": {},
   "outputs": [
    {
     "data": {
      "text/plain": [
       "array([83.28378378, 88.54054054, 93.7972973 ])"
      ]
     },
     "execution_count": 9,
     "metadata": {},
     "output_type": "execute_result"
    }
   ],
   "source": [
    "### Sales predictions in case x = 0.7, 0.8 or 0.9\n",
    "\n",
    "model.predict(pd.DataFrame([0.7, 0.8, 0.9]))"
   ]
  },
  {
   "cell_type": "markdown",
   "id": "08070753",
   "metadata": {},
   "source": [
    "Source and origin of inspiration:<br /> \n",
    "Aki Taanila: Data-analytiikka Pythonilla: <a href=\"https://tilastoapu.wordpress.com/python/\">https://tilastoapu.wordpress.com/python/</a>"
   ]
  }
 ],
 "metadata": {
  "kernelspec": {
   "display_name": "Python 3",
   "language": "python",
   "name": "python3"
  },
  "language_info": {
   "codemirror_mode": {
    "name": "ipython",
    "version": 3
   },
   "file_extension": ".py",
   "mimetype": "text/x-python",
   "name": "python",
   "nbconvert_exporter": "python",
   "pygments_lexer": "ipython3",
   "version": "3.7.11"
  }
 },
 "nbformat": 4,
 "nbformat_minor": 5
}
